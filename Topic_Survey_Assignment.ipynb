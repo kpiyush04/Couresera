{
 "cells": [
  {
   "cell_type": "code",
   "execution_count": 41,
   "metadata": {},
   "outputs": [],
   "source": [
    "import pandas\n",
    "import numpy\n",
    "import pandas as pd \n",
    "import numpy as np\n",
    "import matplotlib\n",
    "import matplotlib.pyplot as plt\n",
    "%matplotlib inline"
   ]
  },
  {
   "cell_type": "code",
   "execution_count": 42,
   "metadata": {},
   "outputs": [],
   "source": [
    "data = pd.read_csv('./Topic_Survey_Assignment.csv')"
   ]
  },
  {
   "cell_type": "code",
   "execution_count": 43,
   "metadata": {},
   "outputs": [
    {
     "data": {
      "text/html": [
       "<div>\n",
       "<style scoped>\n",
       "    .dataframe tbody tr th:only-of-type {\n",
       "        vertical-align: middle;\n",
       "    }\n",
       "\n",
       "    .dataframe tbody tr th {\n",
       "        vertical-align: top;\n",
       "    }\n",
       "\n",
       "    .dataframe thead th {\n",
       "        text-align: right;\n",
       "    }\n",
       "</style>\n",
       "<table border=\"1\" class=\"dataframe\">\n",
       "  <thead>\n",
       "    <tr style=\"text-align: right;\">\n",
       "      <th></th>\n",
       "      <th>Unnamed: 0</th>\n",
       "      <th>Very interested</th>\n",
       "      <th>Somewhat interested</th>\n",
       "      <th>Not interested</th>\n",
       "    </tr>\n",
       "  </thead>\n",
       "  <tbody>\n",
       "    <tr>\n",
       "      <th>0</th>\n",
       "      <td>Big Data (Spark / Hadoop)</td>\n",
       "      <td>1332</td>\n",
       "      <td>729</td>\n",
       "      <td>127</td>\n",
       "    </tr>\n",
       "    <tr>\n",
       "      <th>1</th>\n",
       "      <td>Data Analysis / Statistics</td>\n",
       "      <td>1688</td>\n",
       "      <td>444</td>\n",
       "      <td>60</td>\n",
       "    </tr>\n",
       "    <tr>\n",
       "      <th>2</th>\n",
       "      <td>Data Journalism</td>\n",
       "      <td>429</td>\n",
       "      <td>1081</td>\n",
       "      <td>610</td>\n",
       "    </tr>\n",
       "    <tr>\n",
       "      <th>3</th>\n",
       "      <td>Data Visualization</td>\n",
       "      <td>1340</td>\n",
       "      <td>734</td>\n",
       "      <td>102</td>\n",
       "    </tr>\n",
       "    <tr>\n",
       "      <th>4</th>\n",
       "      <td>Deep Learning</td>\n",
       "      <td>1263</td>\n",
       "      <td>770</td>\n",
       "      <td>136</td>\n",
       "    </tr>\n",
       "    <tr>\n",
       "      <th>5</th>\n",
       "      <td>Machine Learning</td>\n",
       "      <td>1629</td>\n",
       "      <td>477</td>\n",
       "      <td>74</td>\n",
       "    </tr>\n",
       "  </tbody>\n",
       "</table>\n",
       "</div>"
      ],
      "text/plain": [
       "                   Unnamed: 0  Very interested  Somewhat interested  \\\n",
       "0   Big Data (Spark / Hadoop)             1332                  729   \n",
       "1  Data Analysis / Statistics             1688                  444   \n",
       "2             Data Journalism              429                 1081   \n",
       "3          Data Visualization             1340                  734   \n",
       "4               Deep Learning             1263                  770   \n",
       "5            Machine Learning             1629                  477   \n",
       "\n",
       "   Not interested  \n",
       "0             127  \n",
       "1              60  \n",
       "2             610  \n",
       "3             102  \n",
       "4             136  \n",
       "5              74  "
      ]
     },
     "execution_count": 43,
     "metadata": {},
     "output_type": "execute_result"
    }
   ],
   "source": [
    "data"
   ]
  },
  {
   "cell_type": "code",
   "execution_count": 55,
   "metadata": {},
   "outputs": [
    {
     "data": {
      "text/html": [
       "<div>\n",
       "<style scoped>\n",
       "    .dataframe tbody tr th:only-of-type {\n",
       "        vertical-align: middle;\n",
       "    }\n",
       "\n",
       "    .dataframe tbody tr th {\n",
       "        vertical-align: top;\n",
       "    }\n",
       "\n",
       "    .dataframe thead th {\n",
       "        text-align: right;\n",
       "    }\n",
       "</style>\n",
       "<table border=\"1\" class=\"dataframe\">\n",
       "  <thead>\n",
       "    <tr style=\"text-align: right;\">\n",
       "      <th></th>\n",
       "      <th>Unnamed: 0</th>\n",
       "      <th>Very interested</th>\n",
       "      <th>Somewhat interested</th>\n",
       "      <th>Not interested</th>\n",
       "    </tr>\n",
       "  </thead>\n",
       "  <tbody>\n",
       "    <tr>\n",
       "      <th>1</th>\n",
       "      <td>Data Analysis / Statistics</td>\n",
       "      <td>1688</td>\n",
       "      <td>444</td>\n",
       "      <td>60</td>\n",
       "    </tr>\n",
       "    <tr>\n",
       "      <th>5</th>\n",
       "      <td>Machine Learning</td>\n",
       "      <td>1629</td>\n",
       "      <td>477</td>\n",
       "      <td>74</td>\n",
       "    </tr>\n",
       "    <tr>\n",
       "      <th>3</th>\n",
       "      <td>Data Visualization</td>\n",
       "      <td>1340</td>\n",
       "      <td>734</td>\n",
       "      <td>102</td>\n",
       "    </tr>\n",
       "    <tr>\n",
       "      <th>0</th>\n",
       "      <td>Big Data (Spark / Hadoop)</td>\n",
       "      <td>1332</td>\n",
       "      <td>729</td>\n",
       "      <td>127</td>\n",
       "    </tr>\n",
       "    <tr>\n",
       "      <th>4</th>\n",
       "      <td>Deep Learning</td>\n",
       "      <td>1263</td>\n",
       "      <td>770</td>\n",
       "      <td>136</td>\n",
       "    </tr>\n",
       "    <tr>\n",
       "      <th>2</th>\n",
       "      <td>Data Journalism</td>\n",
       "      <td>429</td>\n",
       "      <td>1081</td>\n",
       "      <td>610</td>\n",
       "    </tr>\n",
       "  </tbody>\n",
       "</table>\n",
       "</div>"
      ],
      "text/plain": [
       "                   Unnamed: 0  Very interested  Somewhat interested  \\\n",
       "1  Data Analysis / Statistics             1688                  444   \n",
       "5            Machine Learning             1629                  477   \n",
       "3          Data Visualization             1340                  734   \n",
       "0   Big Data (Spark / Hadoop)             1332                  729   \n",
       "4               Deep Learning             1263                  770   \n",
       "2             Data Journalism              429                 1081   \n",
       "\n",
       "   Not interested  \n",
       "1              60  \n",
       "5              74  \n",
       "3             102  \n",
       "0             127  \n",
       "4             136  \n",
       "2             610  "
      ]
     },
     "execution_count": 55,
     "metadata": {},
     "output_type": "execute_result"
    }
   ],
   "source": [
    "df = data.sort_values(by=['Very interested'], ascending=False)"
   ]
  },
  {
   "cell_type": "code",
   "execution_count": 72,
   "metadata": {},
   "outputs": [
    {
     "data": {
      "text/plain": [
       "[Text(0, 0, 'Data Analysis / Statistics'),\n",
       " Text(0, 0, 'Machine Learning'),\n",
       " Text(0, 0, 'Data Visualization'),\n",
       " Text(0, 0, 'Big Data (Spark / Hadoop)'),\n",
       " Text(0, 0, 'Deep Learning'),\n",
       " Text(0, 0, 'Data Journalism')]"
      ]
     },
     "execution_count": 72,
     "metadata": {},
     "output_type": "execute_result"
    },
    {
     "data": {
      "image/png": "[encoded data removed]",
      "text/plain": [
       "<Figure size 1440x576 with 1 Axes>"
      ]
     },
     "metadata": {
      "needs_background": "light"
     },
     "output_type": "display_data"
    }
   ],
   "source": [
    "ax = data.plot(\n",
    "            kind = 'bar', \n",
    "            figsize=(20, 8),\n",
    "            alpha=0.35,\n",
    "            width = 0.8,\n",
    "            fontsize = 14,\n",
    "            color = ['#5cb85c', '#5bc0de', '#d9534f']\n",
    ")\n",
    "ax.legend(fontsize = 14)\n",
    "ax.set_frame_on(False)\n",
    "ax.set_xlabel(False).set_visible(False)\n",
    "ax.axes.get_yaxis().set_visible(False)\n",
    "ax.set_title('Percentage of Respondents Interest in Data Science Area', fontsize=14)\n",
    "ax.xlabel=('Topics')\n",
    "ax.set_ylabel=('Number')\n",
    "ax.set_xticklabels(('Data Analysis / Statistics','Machine Learning','Data Visualization','Big Data (Spark / Hadoop)','Deep Learning','Data Journalism'))"
   ]
  },
  {
   "cell_type": "code",
   "execution_count": null,
   "metadata": {},
   "outputs": [],
   "source": []
  }
 ],
 "metadata": {
  "kernelspec": {
   "display_name": "Python",
   "language": "python",
   "name": "conda-env-python-py"
  },
  "language_info": {
   "codemirror_mode": {
    "name": "ipython",
    "version": 3
   },
   "file_extension": ".py",
   "mimetype": "text/x-python",
   "name": "python",
   "nbconvert_exporter": "python",
   "pygments_lexer": "ipython3",
   "version": "3.6.10"
  }
 },
 "nbformat": 4,
 "nbformat_minor": 4
}
